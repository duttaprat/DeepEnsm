{
 "cells": [
  {
   "cell_type": "code",
   "execution_count": 2,
   "metadata": {},
   "outputs": [
    {
     "name": "stderr",
     "output_type": "stream",
     "text": [
      "Using TensorFlow backend.\n"
     ]
    }
   ],
   "source": [
    "import keras\n",
    "from keras import Sequential\n",
    "from keras.layers import SimpleRNN, TimeDistributed, Dense, LSTM, Embedding, Activation\n",
    "import pandas as pd\n",
    "import numpy as np"
   ]
  },
  {
   "cell_type": "code",
   "execution_count": 3,
   "metadata": {},
   "outputs": [],
   "source": [
    "train_data = pd.read_csv(\"labeled_file.txt\", sep=\"\\t\", header=None)\n",
    "test_data = pd.read_csv(\"unlabeled_file.txt\", sep=\"\\t\", header=None)"
   ]
  },
  {
   "cell_type": "code",
   "execution_count": 4,
   "metadata": {},
   "outputs": [
    {
     "data": {
      "text/plain": [
       "1      1382\n",
       "0       462\n",
       "7       182\n",
       "12      170\n",
       "2       146\n",
       "5       125\n",
       "11      101\n",
       "15       99\n",
       "10       98\n",
       "18       83\n",
       "9        81\n",
       "8        80\n",
       "30       78\n",
       "13       71\n",
       "25       63\n",
       "27       61\n",
       "3        61\n",
       "4        58\n",
       "49       56\n",
       "16       48\n",
       "34       45\n",
       "38       45\n",
       "45       43\n",
       "19       41\n",
       "29       37\n",
       "41       32\n",
       "39       31\n",
       "24       29\n",
       "53       28\n",
       "64       27\n",
       "       ... \n",
       "115       3\n",
       "54        3\n",
       "123       3\n",
       "51        3\n",
       "93        3\n",
       "113       3\n",
       "127       2\n",
       "108       2\n",
       "118       2\n",
       "111       2\n",
       "95        2\n",
       "91        2\n",
       "79        2\n",
       "55        2\n",
       "47        2\n",
       "35        2\n",
       "126       2\n",
       "122       2\n",
       "98        2\n",
       "112       2\n",
       "94        2\n",
       "86        2\n",
       "66        2\n",
       "117       2\n",
       "109       2\n",
       "81        2\n",
       "77        2\n",
       "120       2\n",
       "116       2\n",
       "125       2\n",
       "Name: 23, Length: 128, dtype: int64"
      ]
     },
     "execution_count": 4,
     "metadata": {},
     "output_type": "execute_result"
    }
   ],
   "source": [
    "train_x = train_data.iloc[:, 2:-1]\n",
    "test_x = test_data.iloc[:, 2:-1]\n",
    "train_y = train_data.iloc[:, -1]\n",
    "train_y.value_counts()"
   ]
  },
  {
   "cell_type": "code",
   "execution_count": 5,
   "metadata": {},
   "outputs": [
    {
     "name": "stdout",
     "output_type": "stream",
     "text": [
      "(4636, 21)\n"
     ]
    }
   ],
   "source": [
    "print(train_x.shape)"
   ]
  },
  {
   "cell_type": "code",
   "execution_count": 6,
   "metadata": {},
   "outputs": [],
   "source": [
    "train_x = np.array(train_x).reshape(4636, 21)"
   ]
  },
  {
   "cell_type": "code",
   "execution_count": 7,
   "metadata": {},
   "outputs": [],
   "source": [
    "train_y = np.array(train_y).reshape(4636, 1)"
   ]
  },
  {
   "cell_type": "code",
   "execution_count": 8,
   "metadata": {},
   "outputs": [
    {
     "name": "stdout",
     "output_type": "stream",
     "text": [
      "(4636, 1)\n"
     ]
    }
   ],
   "source": [
    "print(train_y.shape)"
   ]
  },
  {
   "cell_type": "code",
   "execution_count": 10,
   "metadata": {},
   "outputs": [
    {
     "name": "stderr",
     "output_type": "stream",
     "text": [
      "C:\\Users\\Saraansh Chopra\\AppData\\Local\\conda\\conda\\envs\\tf-gpu\\lib\\site-packages\\ipykernel_launcher.py:3: UserWarning: Update your `LSTM` call to the Keras 2 API: `LSTM(256, activation=\"tanh\", recurrent_activation=\"hard_sigmoid\")`\n",
      "  This is separate from the ipykernel package so we can avoid doing imports until\n",
      "C:\\Users\\Saraansh Chopra\\AppData\\Local\\conda\\conda\\envs\\tf-gpu\\lib\\site-packages\\ipykernel_launcher.py:4: UserWarning: Update your `Dense` call to the Keras 2 API: `Dense(1, kernel_initializer=\"uniform\")`\n",
      "  after removing the cwd from sys.path.\n",
      "C:\\Users\\Saraansh Chopra\\AppData\\Local\\conda\\conda\\envs\\tf-gpu\\lib\\site-packages\\ipykernel_launcher.py:7: UserWarning: The `nb_epoch` argument in `fit` has been renamed `epochs`.\n",
      "  import sys\n"
     ]
    },
    {
     "name": "stdout",
     "output_type": "stream",
     "text": [
      "Train on 3245 samples, validate on 1391 samples\n",
      "Epoch 1/10\n",
      "3245/3245 [==============================] - 3s 1ms/step - loss: 36.3852 - acc: 0.4259 - val_loss: 3028.0568 - val_acc: 0.0000e+00\n",
      "Epoch 2/10\n",
      "3245/3245 [==============================] - 3s 813us/step - loss: 36.3852 - acc: 0.4259 - val_loss: 3028.0568 - val_acc: 0.0000e+00\n",
      "Epoch 3/10\n",
      "3245/3245 [==============================] - 3s 810us/step - loss: 36.3852 - acc: 0.4259 - val_loss: 3028.0568 - val_acc: 0.0000e+00\n",
      "Epoch 4/10\n",
      "3245/3245 [==============================] - 3s 812us/step - loss: 36.3852 - acc: 0.4259 - val_loss: 3028.0568 - val_acc: 0.0000e+00\n",
      "Epoch 5/10\n",
      "3245/3245 [==============================] - 3s 835us/step - loss: 36.3852 - acc: 0.4259 - val_loss: 3028.0568 - val_acc: 0.0000e+00\n",
      "Epoch 6/10\n",
      "3245/3245 [==============================] - 3s 818us/step - loss: 36.3852 - acc: 0.4259 - val_loss: 3028.0568 - val_acc: 0.0000e+00s: 36.9892 - - ETA: 0s - los\n",
      "Epoch 7/10\n",
      "3245/3245 [==============================] - 3s 826us/step - loss: 36.3852 - acc: 0.4259 - val_loss: 3028.0568 - val_acc: 0.0000e+00\n",
      "Epoch 8/10\n",
      "3245/3245 [==============================] - 3s 885us/step - loss: 36.3852 - acc: 0.4259 - val_loss: 3028.0568 - val_acc: 0.0000e+00\n",
      "Epoch 9/10\n",
      "3245/3245 [==============================] - 3s 837us/step - loss: 36.3852 - acc: 0.4259 - val_loss: 3028.0568 - val_acc: 0.0000e+00\n",
      "Epoch 10/10\n",
      "3245/3245 [==============================] - 3s 845us/step - loss: 36.3852 - acc: 0.4259 - val_loss: 3028.0568 - val_acc: 0.0000e+00\n"
     ]
    },
    {
     "data": {
      "text/plain": [
       "<keras.callbacks.History at 0x1d7fad05208>"
      ]
     },
     "execution_count": 10,
     "metadata": {},
     "output_type": "execute_result"
    }
   ],
   "source": [
    "model=Sequential()\n",
    "model.add(Embedding(21,256))\n",
    "model.add(LSTM(256,activation='tanh', inner_activation='hard_sigmoid'))\n",
    "model.add(Dense(1, init='uniform'))\n",
    "model.add(Activation('softmax')) \n",
    "model.compile(loss = \"mse\", optimizer = \"rmsprop\", metrics=['accuracy'])\n",
    "model.fit(train_x, train_y, nb_epoch = 10, batch_size = 32, validation_split=0.3)"
   ]
  },
  {
   "cell_type": "code",
   "execution_count": 11,
   "metadata": {},
   "outputs": [
    {
     "name": "stdout",
     "output_type": "stream",
     "text": [
      "4636/4636 [==============================] - 1s 190us/step\n"
     ]
    },
    {
     "data": {
      "text/plain": [
       "[934.0157454904552, 0.2981018119068162]"
      ]
     },
     "execution_count": 11,
     "metadata": {},
     "output_type": "execute_result"
    }
   ],
   "source": [
    "model.evaluate(train_x, train_y, batch_size=32)"
   ]
  },
  {
   "cell_type": "code",
   "execution_count": null,
   "metadata": {},
   "outputs": [],
   "source": []
  }
 ],
 "metadata": {
  "kernelspec": {
   "display_name": "Python 3",
   "language": "python",
   "name": "python3"
  },
  "language_info": {
   "codemirror_mode": {
    "name": "ipython",
    "version": 3
   },
   "file_extension": ".py",
   "mimetype": "text/x-python",
   "name": "python",
   "nbconvert_exporter": "python",
   "pygments_lexer": "ipython3",
   "version": "3.6.7"
  }
 },
 "nbformat": 4,
 "nbformat_minor": 2
}
