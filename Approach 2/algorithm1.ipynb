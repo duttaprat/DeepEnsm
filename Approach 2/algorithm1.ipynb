{
 "cells": [
  {
   "cell_type": "code",
   "execution_count": 24,
   "metadata": {
    "collapsed": true
   },
   "outputs": [],
   "source": [
    "from __future__ import division\n",
    "import numpy as np\n",
    "import os,ast\n",
    "from scipy import stats\n",
    "from scipy.stats import norm\n",
    "import itertools"
   ]
  },
  {
   "cell_type": "markdown",
   "metadata": {},
   "source": [
    "# Creating weighted incidence matrix from the non-dominated solutions"
   ]
  },
  {
   "cell_type": "code",
   "execution_count": 25,
   "metadata": {},
   "outputs": [
    {
     "name": "stdout",
     "output_type": "stream",
     "text": [
      "/home/iitp/Desktop/algo/Code\n",
      "['label4.txt', 'label6.txt', 'label0.txt', 'label3.txt', 'label9.txt', 'label5.txt', 'label10.txt', 'label2.txt', 'label1.txt', 'label11.txt', 'label8.txt', 'label7.txt']\n"
     ]
    }
   ],
   "source": [
    "MainDir = os.getcwd() \n",
    "print(MainDir)\n",
    "os.chdir(MainDir+ '/BCLL_FuLL_Labels')\n",
    "MainDir = os.getcwd()\n",
    "length = len(os.walk(MainDir).next()[1])\n",
    "dirs = os.listdir(os.getcwd())\n",
    "print(dirs)"
   ]
  },
  {
   "cell_type": "code",
   "execution_count": 28,
   "metadata": {
    "collapsed": true
   },
   "outputs": [],
   "source": [
    "def work(l):\n",
    "    l1 = []\n",
    "    con1 = []\n",
    "    m = []\n",
    "    i1 = []\n",
    "    inci_matrix= []\n",
    "    length = len(l)\n",
    "\n",
    "\n",
    "\n",
    "    for j in range(len(l)):\n",
    "        #print j\n",
    "        i1 = np.zeros(len(l))\n",
    "        #print i1\n",
    "        i1[j] = 1\n",
    "        count = -1\n",
    "        for k in l:\n",
    "            count = count + 1\n",
    "            if l[j] == k:\n",
    "                #print l[k]\n",
    "                i1[count] = 1\n",
    "        #print i1\n",
    "        m.append(list(i1))\n",
    "        #print m\n",
    "        inci_matrix = np.array(m)\n",
    "    #print inci_matrix\n",
    "    print inci_matrix.shape\n",
    "    return inci_matrix"
   ]
  },
  {
   "cell_type": "code",
   "execution_count": 29,
   "metadata": {},
   "outputs": [
    {
     "name": "stdout",
     "output_type": "stream",
     "text": [
      "(20, 20)\n",
      "(20, 20)\n",
      "(20, 20)\n",
      "(20, 20)\n",
      "(20, 20)\n",
      "(20, 20)\n",
      "(20, 20)\n",
      "(20, 20)\n",
      "(20, 20)\n",
      "(20, 20)\n",
      "(20, 20)\n",
      "(20, 20)\n",
      "[2.0, 3.0, 4.0, 5.0, 6.0, 7.0, 8.0, 9.0, 10.0, 11.0, 12.0] 7.0 12.0\n"
     ]
    }
   ],
   "source": [
    "for i in enumerate(dirs):\n",
    "    l = []\n",
    "    temp_matrix = []\n",
    "    #print i\n",
    "    k=i[1]\n",
    "    for j in ['label','.txt']:\n",
    "        k = k.strip(j)\n",
    "    with open(i[1]) as fp:\n",
    "        for j, line in enumerate(fp):\n",
    "            arr = line.rstrip()\n",
    "            l.append(int(arr))\n",
    "    if (i[0]==0):\n",
    "        cumulated_matrix=np.zeros((len(l),len(l))) # Weighted Incidence Matrix\n",
    "    temp = work(l)\n",
    "    cumulated_matrix = cumulated_matrix + temp\n",
    "\n",
    "\n",
    "lower_matrix =  np.tril(cumulated_matrix, k=-1)\n",
    "number_of_occurance = list(set(lower_matrix.flatten())-set([0,1]))\n",
    "print number_of_occurance, np.median(number_of_occurance), np.max(number_of_occurance)"
   ]
  },
  {
   "cell_type": "code",
   "execution_count": 30,
   "metadata": {},
   "outputs": [
    {
     "name": "stdout",
     "output_type": "stream",
     "text": [
      "20 20\n"
     ]
    }
   ],
   "source": [
    "(row, column) = lower_matrix.shape\n",
    "print row, column"
   ]
  },
  {
   "cell_type": "markdown",
   "metadata": {},
   "source": [
    "# Algorithm-1 which takes input the weighted incidence matrix and gives a set of disconnected walks"
   ]
  },
  {
   "cell_type": "code",
   "execution_count": 32,
   "metadata": {},
   "outputs": [
    {
     "name": "stdout",
     "output_type": "stream",
     "text": [
      "[set([8, 3]), set([16, 17, 4, 9, 15]), set([11, 2, 19]), set([12, 5]), set([18, 13])]\n"
     ]
    }
   ],
   "source": [
    "clusters= []\n",
    "for i in range(row):\n",
    "    for j in range(i):\n",
    "        if (lower_matrix[i][j] == np.max(number_of_occurance)):\n",
    "            temp = set([i,j])\n",
    "            #print \"fr\", temp\n",
    "            if len(clusters)==0:\n",
    "                clusters.append(temp)\n",
    "                #print clusters\n",
    "            else:\n",
    "                flag =0\n",
    "                for k in range(len(clusters)):\n",
    "                    if len(temp.intersection(clusters[k]))!=0:\n",
    "                        clusters[k]=clusters[k].union(temp)\n",
    "                        flag =1\n",
    "                if flag==0:\n",
    "                    clusters.append(temp)\n",
    "                            \n",
    "print clusters"
   ]
  },
  {
   "cell_type": "markdown",
   "metadata": {},
   "source": [
    "# Save the disconnected component into a file"
   ]
  },
  {
   "cell_type": "code",
   "execution_count": 33,
   "metadata": {
    "collapsed": true
   },
   "outputs": [],
   "source": [
    "os.chdir('..')\n",
    "with open('disconnected_walk.txt', 'w') as f:\n",
    "    f.write(\"[\")\n",
    "    for item in clusters:\n",
    "        f.write(\"%s,\" % item)\n",
    "    f.write(\"]\")"
   ]
  },
  {
   "cell_type": "code",
   "execution_count": 7,
   "metadata": {},
   "outputs": [
    {
     "name": "stdout",
     "output_type": "stream",
     "text": [
      "[2, 5, 3, 2, 2] 14\n"
     ]
    }
   ],
   "source": [
    "no_labels = []\n",
    "for i in range(len(clusters)):\n",
    "    no_labels.append(len(clusters[i]))\n",
    "print no_labels, sum(no_labels)"
   ]
  },
  {
   "cell_type": "code",
   "execution_count": 8,
   "metadata": {
    "collapsed": true
   },
   "outputs": [],
   "source": [
    "for subset in itertools.combinations(clusters, 2):\n",
    "    if len( subset[0].intersection(subset[1])) !=0 :\n",
    "        print subset[0].intersection(subset[1])"
   ]
  },
  {
   "cell_type": "code",
   "execution_count": null,
   "metadata": {
    "collapsed": true
   },
   "outputs": [],
   "source": []
  }
 ],
 "metadata": {
  "kernelspec": {
   "display_name": "Python 2",
   "language": "python",
   "name": "python2"
  },
  "language_info": {
   "codemirror_mode": {
    "name": "ipython",
    "version": 2
   },
   "file_extension": ".py",
   "mimetype": "text/x-python",
   "name": "python",
   "nbconvert_exporter": "python",
   "pygments_lexer": "ipython2",
   "version": "2.7.14"
  }
 },
 "nbformat": 4,
 "nbformat_minor": 2
}
